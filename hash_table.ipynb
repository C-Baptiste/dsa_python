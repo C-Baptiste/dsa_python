{
 "cells": [
  {
   "cell_type": "code",
   "execution_count": 52,
   "id": "a1fa8b9c-2b56-491c-a286-58a99c230ec5",
   "metadata": {},
   "outputs": [],
   "source": [
    "class HashTable:\n",
    "    def __init__(self, size = 7):\n",
    "        self.data_map = [None] * size\n",
    "\n",
    "    def __hash(self, key):\n",
    "        my_hash = 0\n",
    "        for letter in key:\n",
    "            my_hash = (my_hash + ord(letter) * 23) % len(self.data_map)\n",
    "        return my_hash\n",
    "\n",
    "    def print_table(self):\n",
    "        for i, val in enumerate(self.data_map):\n",
    "            print(f'{i}: {val}') \n",
    "\n",
    "    def set_item(self, key, value):\n",
    "        index = self.__hash(key)\n",
    "        if self.data_map[index] == None:\n",
    "            self.data_map[index] = []\n",
    "        self.data_map[index].append([key, value])\n",
    "\n",
    "    def get_item(self, key):\n",
    "        index = self.__hash(key)\n",
    "        if self.data_map[index] is not None:\n",
    "            for i in range(len(self.data_map[index])):\n",
    "                if self.data_map[index][i][0] == key:\n",
    "                    return self.data_map[index][i][1]\n",
    "        return None\n",
    "\n",
    "    def keys(self):\n",
    "        all_keys = []\n",
    "        for i in range(len(self.data_map)):\n",
    "            if self.data_map[i] is not None:\n",
    "                for j in range(len(self.data_map[i])):\n",
    "                    all_keys.append(self.data_map[i][j][0])\n",
    "        return all_keys"
   ]
  },
  {
   "cell_type": "code",
   "execution_count": 53,
   "id": "8fa23989-f4bd-4705-8458-ce8070f72ff9",
   "metadata": {},
   "outputs": [],
   "source": [
    "ht = HashTable()"
   ]
  },
  {
   "cell_type": "code",
   "execution_count": 54,
   "id": "f3472dda-d512-42da-8ee9-dbb26a5868f4",
   "metadata": {},
   "outputs": [
    {
     "name": "stdout",
     "output_type": "stream",
     "text": [
      "0: None\n",
      "1: None\n",
      "2: None\n",
      "3: None\n",
      "4: None\n",
      "5: None\n",
      "6: None\n"
     ]
    }
   ],
   "source": [
    "ht.print_table()"
   ]
  },
  {
   "cell_type": "code",
   "execution_count": 55,
   "id": "4920c844-123e-4fab-a53f-fc55a7a3c195",
   "metadata": {},
   "outputs": [],
   "source": [
    "ht.set_item('bolts', 1400)\n",
    "ht.set_item('washers', 50)\n",
    "ht.set_item('lumber', 70)"
   ]
  },
  {
   "cell_type": "code",
   "execution_count": 56,
   "id": "5f67733f-8b90-428f-8c41-a45b794d9a39",
   "metadata": {},
   "outputs": [
    {
     "name": "stdout",
     "output_type": "stream",
     "text": [
      "0: None\n",
      "1: None\n",
      "2: None\n",
      "3: None\n",
      "4: [['bolts', 1400], ['washers', 50]]\n",
      "5: None\n",
      "6: [['lumber', 70]]\n"
     ]
    }
   ],
   "source": [
    "ht.print_table()"
   ]
  },
  {
   "cell_type": "code",
   "execution_count": 57,
   "id": "79e5662c-0d5f-4263-96e9-0de85d8fc99f",
   "metadata": {},
   "outputs": [
    {
     "data": {
      "text/plain": [
       "50"
      ]
     },
     "execution_count": 57,
     "metadata": {},
     "output_type": "execute_result"
    }
   ],
   "source": [
    "ht.get_item('washers')"
   ]
  },
  {
   "cell_type": "code",
   "execution_count": 58,
   "id": "e9d573bb-b983-43c8-9021-2997a69bb19a",
   "metadata": {},
   "outputs": [
    {
     "data": {
      "text/plain": [
       "['bolts', 'washers', 'lumber']"
      ]
     },
     "execution_count": 58,
     "metadata": {},
     "output_type": "execute_result"
    }
   ],
   "source": [
    "ht.keys()"
   ]
  },
  {
   "cell_type": "code",
   "execution_count": null,
   "id": "cd6d23a7-98bc-46d7-891f-99a9e0f74508",
   "metadata": {},
   "outputs": [],
   "source": []
  }
 ],
 "metadata": {
  "kernelspec": {
   "display_name": "Python 3 (ipykernel)",
   "language": "python",
   "name": "python3"
  },
  "language_info": {
   "codemirror_mode": {
    "name": "ipython",
    "version": 3
   },
   "file_extension": ".py",
   "mimetype": "text/x-python",
   "name": "python",
   "nbconvert_exporter": "python",
   "pygments_lexer": "ipython3",
   "version": "3.9.2"
  }
 },
 "nbformat": 4,
 "nbformat_minor": 5
}
