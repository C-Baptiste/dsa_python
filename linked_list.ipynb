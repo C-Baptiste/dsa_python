{
 "cells": [
  {
   "cell_type": "code",
   "execution_count": 37,
   "id": "e247907d-8670-4663-9bde-d462b30ac6f7",
   "metadata": {},
   "outputs": [],
   "source": [
    "class LinkedList:\n",
    "    def __init__(self, value):\n",
    "        new_node = Node(value)\n",
    "        self.head = new_node\n",
    "        self.tail = new_node\n",
    "        self.lenght = 1 \n",
    "    def append(self, value):\n",
    "        new_node = Node(value)\n",
    "        self.tail.next = new_node\n",
    "        self.tail = new_node\n",
    "        self.lenght += 1 \n",
    "    def prepend(self, value):\n",
    "        new_node = Node(value)\n",
    "        new_node.next = self.head\n",
    "        self.head = new_node\n",
    "        self.lenght += 1 \n",
    "    #def insert(self, value):\n",
    "    def printl(self):\n",
    "        tmp = self.head\n",
    "        while tmp is not None:\n",
    "            print(tmp.value)\n",
    "            tmp = tmp.next\n",
    "        "
   ]
  },
  {
   "cell_type": "code",
   "execution_count": 38,
   "id": "85ca23be-8ddd-4ba9-8a01-b25f824862c6",
   "metadata": {},
   "outputs": [],
   "source": [
    "class Node:\n",
    "    def __init__(self, value):\n",
    "        self.value = value\n",
    "        self.next = None"
   ]
  },
  {
   "cell_type": "code",
   "execution_count": 39,
   "id": "7168ffaa-4f33-4f73-aae0-55f096d22587",
   "metadata": {},
   "outputs": [],
   "source": [
    "l = LinkedList(4)"
   ]
  },
  {
   "cell_type": "code",
   "execution_count": 40,
   "id": "3338d40a-4374-4c6b-a07b-1a3b7871922f",
   "metadata": {},
   "outputs": [],
   "source": [
    "l.append(9)\n",
    "l.prepend(8)\n",
    "l.prepend(13)\n",
    "l.append(25)"
   ]
  },
  {
   "cell_type": "code",
   "execution_count": 44,
   "id": "49864eff-8ac1-4b24-9e52-3c07e830cb3c",
   "metadata": {},
   "outputs": [
    {
     "name": "stdout",
     "output_type": "stream",
     "text": [
      "13\n",
      "8\n",
      "4\n",
      "9\n",
      "25\n"
     ]
    }
   ],
   "source": [
    "l.printl()"
   ]
  },
  {
   "cell_type": "code",
   "execution_count": null,
   "id": "ef7394b5-e6a0-490c-8a8a-95d48fb05a75",
   "metadata": {},
   "outputs": [],
   "source": []
  }
 ],
 "metadata": {
  "kernelspec": {
   "display_name": "Python 3 (ipykernel)",
   "language": "python",
   "name": "python3"
  },
  "language_info": {
   "codemirror_mode": {
    "name": "ipython",
    "version": 3
   },
   "file_extension": ".py",
   "mimetype": "text/x-python",
   "name": "python",
   "nbconvert_exporter": "python",
   "pygments_lexer": "ipython3",
   "version": "3.10.8"
  }
 },
 "nbformat": 4,
 "nbformat_minor": 5
}
