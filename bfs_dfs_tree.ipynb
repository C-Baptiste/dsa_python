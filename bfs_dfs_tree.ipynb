{
 "cells": [
  {
   "cell_type": "code",
   "execution_count": 3,
   "id": "14a6dddd-eac5-4c26-9677-f2d001d1dd28",
   "metadata": {},
   "outputs": [],
   "source": [
    "class Node:\n",
    "    def __init__(self, value):\n",
    "        self.value = value\n",
    "        self.left = None\n",
    "        self.right = None"
   ]
  },
  {
   "cell_type": "code",
   "execution_count": 17,
   "id": "65c68011-8d15-4a4b-86e0-504634e04657",
   "metadata": {},
   "outputs": [],
   "source": [
    "class recursiveBST:\n",
    "    def __init__(self):\n",
    "        self.root = None\n",
    "\n",
    "    def __r_contains(self, current_node, value):\n",
    "        if current_node == None:\n",
    "            return False\n",
    "        if current_node.value == value:\n",
    "            return True\n",
    "        if value < current_node.value:\n",
    "            return self.__r_contains(current_node.left, value)\n",
    "        if value > current_node.value:\n",
    "            return self.__r_contains(current_node.right, value)\n",
    "    \n",
    "    def r_contains(self, value):\n",
    "        return self.__r_contains(self.root, value)\n",
    "\n",
    "    def __r_insert(self, current_node, value):\n",
    "        if current_node == None:\n",
    "            return Node(value)\n",
    "        if value < current_node.value:\n",
    "            current_node.left = self.__r_insert(current_node.left, value)\n",
    "        if value > current_node.value:\n",
    "            current_node.right = self.__r_insert(current_node.right, value) \n",
    "        return current_node\n",
    "        \n",
    "    def r_insert(self, value):\n",
    "        if self.root == None:\n",
    "            self.root = Node(value)\n",
    "        self.__r_insert(self.root, value)\n",
    "\n",
    "    def __delete_node(self, current_node, value):\n",
    "        if current_node == None:\n",
    "            return None\n",
    "        if value < current_node.value:\n",
    "            current_node.left = self.__delete_node(current_node.left, value)\n",
    "        if value > current_node.value:\n",
    "            current_node.right = self.__delete_node(current_node.right, value)\n",
    "        else:\n",
    "            if current_node.left == None and current_node.right == None:\n",
    "                return None\n",
    "            elif current_node.left == None:\n",
    "                current_node = current_node.right\n",
    "            elif current_node.right == None:\n",
    "                current_node = current_node.left\n",
    "            else:\n",
    "                sub_tree_min = self.min_value(current_node.right)\n",
    "                current_node.value = sub_tree_min\n",
    "                current_node.right = self.__delete_node(current_node.right, sub_tree_min)                \n",
    "        return current_node\n",
    "    \n",
    "    def delete_node(self, value):\n",
    "        self.__delete_node(self.root, value)\n",
    "\n",
    "    def min_value(self, current_node):\n",
    "        while current_node.left is not None:\n",
    "            current_node = current_node.left\n",
    "        return current_node.value\n",
    "\n",
    "    def __print_node(self, current_node):\n",
    "        print(f\"{current_node.value}\")\n",
    "        if current_node.left is not None:\n",
    "            self.__print_node(current_node.left)\n",
    "        if current_node.right is not None:\n",
    "            self.__print_node(current_node.right)\n",
    "    \n",
    "    def print_tree(self):\n",
    "        self.__print_node(self.root)\n",
    "\n",
    "    def BFS(self):\n",
    "        current_node = self.root\n",
    "        # here a list for simplicity, but a queue for bigO\n",
    "        queue = []\n",
    "        results = []\n",
    "        queue.append(current_node)\n",
    "\n",
    "        while len(queue) > 0:\n",
    "            current_node = queue.pop(0)\n",
    "            results.append(current_node.value)\n",
    "\n",
    "            if current_node.left is not None:\n",
    "                queue.append(current_node.left)\n",
    "            if current_node.right is not None:\n",
    "                queue.append(current_node.right)\n",
    "        return results\n",
    "\n",
    "    def dfs_pre_order(self):\n",
    "        results = []\n",
    "\n",
    "        def traverse(current_node):\n",
    "            results.append(current_node.value)\n",
    "            if current_node.left is not None:\n",
    "                traverse(current_node.left)\n",
    "            if current_node.right is not None:\n",
    "                traverse(current_node.right)\n",
    "\n",
    "        traverse(self.root)\n",
    "\n",
    "        return results"
   ]
  },
  {
   "cell_type": "code",
   "execution_count": 18,
   "id": "0c72c816-9596-4430-a3f8-53e1e254e753",
   "metadata": {},
   "outputs": [
    {
     "name": "stdout",
     "output_type": "stream",
     "text": [
      "50\n",
      "20\n",
      "10\n",
      "25\n",
      "60\n"
     ]
    }
   ],
   "source": [
    "rbst = recursiveBST()\n",
    "rbst.r_insert(50)\n",
    "rbst.r_insert(20)\n",
    "rbst.r_insert(60)\n",
    "rbst.r_insert(10)\n",
    "rbst.r_insert(25)\n",
    "rbst.print_tree()"
   ]
  },
  {
   "cell_type": "code",
   "execution_count": 19,
   "id": "e0cf21a2-6cfe-44d2-b382-2c3a66ae6b5a",
   "metadata": {},
   "outputs": [
    {
     "data": {
      "text/plain": [
       "[50, 20, 60, 10, 25]"
      ]
     },
     "execution_count": 19,
     "metadata": {},
     "output_type": "execute_result"
    }
   ],
   "source": [
    "rbst.BFS()"
   ]
  },
  {
   "cell_type": "code",
   "execution_count": 20,
   "id": "b9bc2ffa-5354-47d8-ad75-c908a9ccf3c2",
   "metadata": {},
   "outputs": [
    {
     "data": {
      "text/plain": [
       "[50, 20, 10, 25, 60]"
      ]
     },
     "execution_count": 20,
     "metadata": {},
     "output_type": "execute_result"
    }
   ],
   "source": [
    "rbst.dfs_pre_order()"
   ]
  },
  {
   "cell_type": "code",
   "execution_count": null,
   "id": "ec6f3dee-b523-4a83-8bff-6bc6127b94e1",
   "metadata": {},
   "outputs": [],
   "source": []
  }
 ],
 "metadata": {
  "kernelspec": {
   "display_name": "Python 3 (ipykernel)",
   "language": "python",
   "name": "python3"
  },
  "language_info": {
   "codemirror_mode": {
    "name": "ipython",
    "version": 3
   },
   "file_extension": ".py",
   "mimetype": "text/x-python",
   "name": "python",
   "nbconvert_exporter": "python",
   "pygments_lexer": "ipython3",
   "version": "3.9.2"
  }
 },
 "nbformat": 4,
 "nbformat_minor": 5
}
