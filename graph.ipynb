{
 "cells": [
  {
   "cell_type": "raw",
   "id": "39a9bfbe-8abc-41df-89d1-8c7de6865e40",
   "metadata": {},
   "source": [
    "adjacency matrix\n",
    "\n",
    "  A B C D E\n",
    "A 0 1 0 0 1 \n",
    "B 1 0 1 0 0\n",
    "C 0 1 0 1 0\n",
    "D 0 0 1 0 1\n",
    "E 1 0 0 1 0\n",
    "\n",
    "adjacency list\n",
    "\n",
    "{\n",
    " 'A': ['B', 'E'],\n",
    " 'B': ['A', 'C'],\n",
    "  ...\n",
    "}"
   ]
  },
  {
   "cell_type": "code",
   "execution_count": 87,
   "id": "b679e82a-e7d7-428a-978d-8af2471e5b4c",
   "metadata": {},
   "outputs": [],
   "source": [
    "class Graph:\n",
    "    \n",
    "    def __init__(self):\n",
    "        self.adj_list = {}\n",
    "\n",
    "    def add_vertex(self, vertex):\n",
    "        if vertex not in self.adj_list.keys():\n",
    "            self.adj_list[vertex] = []\n",
    "            return True\n",
    "        return False\n",
    "\n",
    "    def print_graph(self):\n",
    "        for i in self.adj_list:\n",
    "            print(f'\\n{i}: ', end=\"\")\n",
    "            for j in self.adj_list[i]:\n",
    "                print(f'{j} ', end=\"\")\n",
    "        return True\n",
    "\n",
    "    def add_edge(self, v1, v2):\n",
    "        if v1 in self.adj_list.keys() and v2 in self.adj_list.keys():\n",
    "            self.adj_list[v1].append(v2)\n",
    "            self.adj_list[v2].append(v1)\n",
    "            return True\n",
    "        return False\n",
    "\n",
    "    def remove_edge(self, v1, v2):\n",
    "        if v1 in self.adj_list.keys() and v2 in self.adj_list.keys():\n",
    "            try:\n",
    "                self.adj_list[v1].remove(v2)\n",
    "                self.adj_list[v2].remove(v1)\n",
    "            except ValueError:\n",
    "                pass\n",
    "            return True        \n",
    "        return False\n",
    "\n",
    "    def remove_vertex(self, vertex):\n",
    "        if vertex in self.adj_list.keys():\n",
    "            for other_vertex in self.adj_list[vertex]:\n",
    "                self.adj_list[other_vertex].remove(vertex)\n",
    "            del self.adj_list[vertex]\n",
    "            return True\n",
    "        return False"
   ]
  },
  {
   "cell_type": "code",
   "execution_count": 88,
   "id": "03ab3081-d561-48f9-84c5-6c17ca292a23",
   "metadata": {},
   "outputs": [],
   "source": [
    "g = Graph()"
   ]
  },
  {
   "cell_type": "code",
   "execution_count": 92,
   "id": "5ede5658-0f25-445a-a651-5a1c7ea3b9d8",
   "metadata": {},
   "outputs": [
    {
     "data": {
      "text/plain": [
       "True"
      ]
     },
     "execution_count": 92,
     "metadata": {},
     "output_type": "execute_result"
    }
   ],
   "source": [
    "g.add_vertex(\"A\")\n",
    "g.add_vertex(\"B\")\n",
    "g.add_vertex(\"C\")\n",
    "g.add_edge(\"A\", \"C\")\n",
    "g.add_edge(\"A\", \"B\")"
   ]
  },
  {
   "cell_type": "code",
   "execution_count": 95,
   "id": "107f3000-ff96-467c-866e-6fa2f6868edd",
   "metadata": {},
   "outputs": [
    {
     "name": "stdout",
     "output_type": "stream",
     "text": [
      "\n",
      "A: B B B B \n",
      "B: A A A A "
     ]
    },
    {
     "data": {
      "text/plain": [
       "True"
      ]
     },
     "execution_count": 95,
     "metadata": {},
     "output_type": "execute_result"
    }
   ],
   "source": [
    "g.print_graph()"
   ]
  },
  {
   "cell_type": "code",
   "execution_count": 82,
   "id": "9efae620-b1a8-4f67-ac18-bf84eecbcf8d",
   "metadata": {},
   "outputs": [
    {
     "data": {
      "text/plain": [
       "True"
      ]
     },
     "execution_count": 82,
     "metadata": {},
     "output_type": "execute_result"
    }
   ],
   "source": [
    "g.remove_edge(\"A\", \"B\")"
   ]
  },
  {
   "cell_type": "code",
   "execution_count": 94,
   "id": "e3a9738a-1336-4544-8388-f5ae769deaaa",
   "metadata": {},
   "outputs": [
    {
     "data": {
      "text/plain": [
       "True"
      ]
     },
     "execution_count": 94,
     "metadata": {},
     "output_type": "execute_result"
    }
   ],
   "source": [
    "g.remove_vertex(\"C\")"
   ]
  },
  {
   "cell_type": "code",
   "execution_count": null,
   "id": "8007ae00-8747-4a7b-8cb0-c14f76d4e000",
   "metadata": {},
   "outputs": [],
   "source": []
  },
  {
   "cell_type": "code",
   "execution_count": 41,
   "id": "ff72d760-0aa3-4f3d-bd4f-a7839c8e7e85",
   "metadata": {},
   "outputs": [],
   "source": [
    "a = {\"A\": [\"a\"],\"B\": [\"b\"]}"
   ]
  },
  {
   "cell_type": "code",
   "execution_count": 43,
   "id": "468a1dcc-ec2c-45f2-baa6-a72a6e529e88",
   "metadata": {},
   "outputs": [
    {
     "data": {
      "text/plain": [
       "dict_keys(['A', 'B'])"
      ]
     },
     "execution_count": 43,
     "metadata": {},
     "output_type": "execute_result"
    }
   ],
   "source": [
    "a.keys()"
   ]
  },
  {
   "cell_type": "code",
   "execution_count": null,
   "id": "0ecc729c-63cd-413e-a73f-a5a0ebf536ab",
   "metadata": {},
   "outputs": [],
   "source": []
  }
 ],
 "metadata": {
  "kernelspec": {
   "display_name": "Python 3 (ipykernel)",
   "language": "python",
   "name": "python3"
  },
  "language_info": {
   "codemirror_mode": {
    "name": "ipython",
    "version": 3
   },
   "file_extension": ".py",
   "mimetype": "text/x-python",
   "name": "python",
   "nbconvert_exporter": "python",
   "pygments_lexer": "ipython3",
   "version": "3.9.2"
  }
 },
 "nbformat": 4,
 "nbformat_minor": 5
}
