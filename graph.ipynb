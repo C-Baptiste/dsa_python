{
 "cells": [
  {
   "cell_type": "raw",
   "id": "39a9bfbe-8abc-41df-89d1-8c7de6865e40",
   "metadata": {},
   "source": [
    "adjacency matrix\n",
    "\n",
    "  A B C D E\n",
    "A 0 1 0 0 1 \n",
    "B 1 0 1 0 0\n",
    "C 0 1 0 1 0\n",
    "D 0 0 1 0 1\n",
    "E 1 0 0 1 0\n",
    "\n",
    "adjacency list\n",
    "\n",
    "{\n",
    " 'A': ['B', 'E'],\n",
    " 'B': ['A', 'C'],\n",
    "  ...\n",
    "}"
   ]
  },
  {
   "cell_type": "code",
   "execution_count": null,
   "id": "b679e82a-e7d7-428a-978d-8af2471e5b4c",
   "metadata": {},
   "outputs": [],
   "source": []
  }
 ],
 "metadata": {
  "kernelspec": {
   "display_name": "Python 3 (ipykernel)",
   "language": "python",
   "name": "python3"
  },
  "language_info": {
   "codemirror_mode": {
    "name": "ipython",
    "version": 3
   },
   "file_extension": ".py",
   "mimetype": "text/x-python",
   "name": "python",
   "nbconvert_exporter": "python",
   "pygments_lexer": "ipython3",
   "version": "3.9.2"
  }
 },
 "nbformat": 4,
 "nbformat_minor": 5
}
