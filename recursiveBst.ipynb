{
 "cells": [
  {
   "cell_type": "code",
   "execution_count": 4,
   "id": "6f7905a2-24a0-41d9-a2fc-c4f1d020a946",
   "metadata": {},
   "outputs": [],
   "source": [
    "class Node:\n",
    "    def __init__(self, value):\n",
    "        self.value = value\n",
    "        self.left = None\n",
    "        self.right = None"
   ]
  },
  {
   "cell_type": "code",
   "execution_count": 13,
   "id": "e98a4df8-6ed1-48ff-b284-5d98ae4d50fd",
   "metadata": {},
   "outputs": [],
   "source": [
    "class recursiveBST:\n",
    "    def __init__(self):\n",
    "        self.root = None\n",
    "\n",
    "    def __r_contains(self, current_node, value):\n",
    "        if current_node == None:\n",
    "            return False\n",
    "        if current_node.value == value:\n",
    "            return True\n",
    "        if value < current_node.value:\n",
    "            return self.__r_contains(current_node.left, value)\n",
    "        if value > current_node.value:\n",
    "            return self.__r_contains(current_node.right, value)\n",
    "    \n",
    "    def r_contains(self, value):\n",
    "        return self.__r_contains(self.root, value)\n",
    "\n",
    "    def __r_insert(self, current_node, value):\n",
    "        if current_node == None:\n",
    "            return Node(value)\n",
    "        if value < current_node.value:\n",
    "            current_node.left = self.__r_insert(current_node.left, value)\n",
    "        if value > current_node.value:\n",
    "            current_node.right = self.__r_insert(current_node.right, value) \n",
    "        return current_node\n",
    "        \n",
    "    def r_insert(self, value):\n",
    "        if self.root == None:\n",
    "            self.root = Node(value)\n",
    "        self.__r_insert(self.root, value)\n",
    "\n",
    "    def __delete_node(self, current_node, value):\n",
    "        if current_node == None:\n",
    "            return None\n",
    "        if value < current_node.value:\n",
    "            current_node.left = self.__delete_node(current_node.left, value)\n",
    "        if value > current_node.value:\n",
    "            current_node.right = self.__delete_node(current_node.right, value)\n",
    "        else:\n",
    "            if current_node.left == None and current_node.right == None:\n",
    "                return None\n",
    "            elif current_node.left == None:\n",
    "                current_node = current_node.right\n",
    "            elif current_node.right == None:\n",
    "                current_node = current_node.left\n",
    "            else:\n",
    "                sub_tree_min = self.min_value(current_node.right)\n",
    "                current_node.value = sub_tree_min\n",
    "                current_node.right = self.__delete_node(current_node.right, sub_tree_min)                \n",
    "        return current_node\n",
    "    \n",
    "    def delete_node(self, value):\n",
    "        self.__delete_node(self.root, value)\n",
    "\n",
    "    def min_value(self, current_node):\n",
    "        while current_node.left is not None:\n",
    "            current_node = current_node.left\n",
    "        return current_node.value\n",
    "\n",
    "    def __print_node(self, current_node):\n",
    "        print(f\"{current_node.value}\")\n",
    "        if current_node.left is not None:\n",
    "            self.__print_node(current_node.left)\n",
    "        if current_node.right is not None:\n",
    "            self.__print_node(current_node.right)\n",
    "    \n",
    "    def print_tree(self):\n",
    "        self.__print_node(self.root)"
   ]
  },
  {
   "cell_type": "code",
   "execution_count": 27,
   "id": "18555ac6-9375-4934-a526-cb37c3a20b19",
   "metadata": {},
   "outputs": [
    {
     "data": {
      "text/plain": [
       "False"
      ]
     },
     "execution_count": 27,
     "metadata": {},
     "output_type": "execute_result"
    }
   ],
   "source": [
    "rbst = recursiveBST()\n",
    "rbst.r_contains(50)"
   ]
  },
  {
   "cell_type": "code",
   "execution_count": 33,
   "id": "8eaab09a-d950-4a62-ad06-a4774ad49de2",
   "metadata": {},
   "outputs": [
    {
     "data": {
      "text/plain": [
       "True"
      ]
     },
     "execution_count": 33,
     "metadata": {},
     "output_type": "execute_result"
    }
   ],
   "source": [
    "rbst.r_insert(50)\n",
    "rbst.r_insert(20)\n",
    "rbst.r_insert(60)\n",
    "rbst.r_insert(10)\n",
    "rbst.r_contains(50)"
   ]
  },
  {
   "cell_type": "code",
   "execution_count": 34,
   "id": "43ce7914-6328-445f-b55c-6840bb6f2de3",
   "metadata": {},
   "outputs": [
    {
     "data": {
      "text/plain": [
       "60"
      ]
     },
     "execution_count": 34,
     "metadata": {},
     "output_type": "execute_result"
    }
   ],
   "source": [
    "rbst.root.value"
   ]
  },
  {
   "cell_type": "code",
   "execution_count": 35,
   "id": "61d3fe8a-f7f0-40a8-8578-1288499671c6",
   "metadata": {},
   "outputs": [
    {
     "name": "stdout",
     "output_type": "stream",
     "text": [
      "60\n",
      "10\n",
      "50\n",
      "20\n"
     ]
    }
   ],
   "source": [
    "rbst.print_tree()"
   ]
  },
  {
   "cell_type": "code",
   "execution_count": 31,
   "id": "23adff05-5194-4d41-8c10-463315ef41fe",
   "metadata": {},
   "outputs": [],
   "source": [
    "rbst.delete_node(20)"
   ]
  },
  {
   "cell_type": "code",
   "execution_count": null,
   "id": "8eaba56c-2b7e-4a45-ab84-164cee7b301e",
   "metadata": {},
   "outputs": [],
   "source": []
  }
 ],
 "metadata": {
  "kernelspec": {
   "display_name": "Python 3 (ipykernel)",
   "language": "python",
   "name": "python3"
  },
  "language_info": {
   "codemirror_mode": {
    "name": "ipython",
    "version": 3
   },
   "file_extension": ".py",
   "mimetype": "text/x-python",
   "name": "python",
   "nbconvert_exporter": "python",
   "pygments_lexer": "ipython3",
   "version": "3.9.2"
  }
 },
 "nbformat": 4,
 "nbformat_minor": 5
}
