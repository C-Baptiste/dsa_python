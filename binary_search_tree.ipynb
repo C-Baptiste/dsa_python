{
 "cells": [
  {
   "cell_type": "code",
   "execution_count": 7,
   "id": "b20ef199-59ed-4abc-b69c-f0eb25f23fb7",
   "metadata": {},
   "outputs": [],
   "source": [
    "class Node:\n",
    "    def __init__(self, value):\n",
    "        self.value = value\n",
    "        self.left = None\n",
    "        self.right = None"
   ]
  },
  {
   "cell_type": "code",
   "execution_count": 47,
   "id": "143f28b0-7fc5-4392-aeb8-da56db10ebf3",
   "metadata": {},
   "outputs": [],
   "source": [
    "class BinarySearchTree:\n",
    "    def __init__(self):\n",
    "        self.root = None\n",
    "\n",
    "    def insert(self, value):\n",
    "        new_node = Node(value)\n",
    "        if self.root is None:\n",
    "            self.root = new_node\n",
    "            return True\n",
    "        tmp = self.root\n",
    "        while (True):\n",
    "            if new_node.value == tmp.value:\n",
    "                return False\n",
    "            if new_node.value < tmp.value:\n",
    "                if tmp.left is None:\n",
    "                    tmp.left = new_node\n",
    "                    return True\n",
    "                tmp = tmp.left\n",
    "            else:\n",
    "                if tmp.right is None:\n",
    "                    tmp.right = new_node\n",
    "                    return True\n",
    "                tmp = tmp.right\n",
    "            \n",
    "    def contains(self, value):\n",
    "        tmp = self.root\n",
    "        while tmp is not None:\n",
    "            if value < tmp.value:\n",
    "                tmp = tmp.left\n",
    "            elif value > tmp.value:\n",
    "                tmp = tmp.right\n",
    "            else:\n",
    "                return True\n",
    "        return False"
   ]
  },
  {
   "cell_type": "code",
   "execution_count": 48,
   "id": "ea841625-d9f4-408e-b398-83aacb48b935",
   "metadata": {},
   "outputs": [
    {
     "data": {
      "text/plain": [
       "True"
      ]
     },
     "execution_count": 48,
     "metadata": {},
     "output_type": "execute_result"
    }
   ],
   "source": [
    "t = BinarySearchTree()\n",
    "t.insert(2)\n",
    "t.insert(1)\n",
    "t.insert(3)"
   ]
  },
  {
   "cell_type": "code",
   "execution_count": 49,
   "id": "d1f919f9-9541-4a17-b18c-78b36459b4c2",
   "metadata": {},
   "outputs": [
    {
     "name": "stdout",
     "output_type": "stream",
     "text": [
      "2\n",
      "1\n",
      "3\n"
     ]
    }
   ],
   "source": [
    "print(t.root.value)\n",
    "print(t.root.left.value)\n",
    "print(t.root.right.value)"
   ]
  },
  {
   "cell_type": "code",
   "execution_count": 50,
   "id": "2ef81b91-c6e3-4181-994b-054a4caf1502",
   "metadata": {},
   "outputs": [
    {
     "data": {
      "text/plain": [
       "False"
      ]
     },
     "execution_count": 50,
     "metadata": {},
     "output_type": "execute_result"
    }
   ],
   "source": [
    "t.contains(0)"
   ]
  },
  {
   "cell_type": "code",
   "execution_count": null,
   "id": "47c6095e-1ba6-4fde-a6a4-4cc705e6bec7",
   "metadata": {},
   "outputs": [],
   "source": []
  }
 ],
 "metadata": {
  "kernelspec": {
   "display_name": "Python 3 (ipykernel)",
   "language": "python",
   "name": "python3"
  },
  "language_info": {
   "codemirror_mode": {
    "name": "ipython",
    "version": 3
   },
   "file_extension": ".py",
   "mimetype": "text/x-python",
   "name": "python",
   "nbconvert_exporter": "python",
   "pygments_lexer": "ipython3",
   "version": "3.9.2"
  }
 },
 "nbformat": 4,
 "nbformat_minor": 5
}
