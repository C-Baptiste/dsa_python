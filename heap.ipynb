{
 "cells": [
  {
   "cell_type": "code",
   "execution_count": 80,
   "id": "74cc27af-b2e7-49ba-a8a2-992e798d6a46",
   "metadata": {},
   "outputs": [],
   "source": [
    "class MaxHeap:\n",
    "    def __init__(self):\n",
    "        self.heap = []\n",
    "\n",
    "    def print_heap(self):\n",
    "        print(self.heap)\n",
    "\n",
    "    def _left_child(self, index):\n",
    "        return ((2 * index) + 1)\n",
    "\n",
    "    def _right_child(self, index):\n",
    "        return ((2 * index) + 2)\n",
    "\n",
    "    def _parent(self, index):\n",
    "        return int((index - 1) / 2)\n",
    "\n",
    "    def _swap(self, index1, index2):\n",
    "        self.heap[index1], self.heap[index2] = self.heap[index2], self.heap[index1]\n",
    "\n",
    "    def insert(self, value):\n",
    "        self.heap.append(value)\n",
    "        current = len(self.heap) - 1\n",
    "\n",
    "        while current > 0 and self.heap[current] > self.heap[self._parent(current)]:\n",
    "            self._swap(current, self._parent(current))\n",
    "            current = self._parent(current)\n",
    "\n",
    "    def _sink_down(self, index):\n",
    "        max_index = index\n",
    "\n",
    "        while True:\n",
    "            left_index = self._left_child(index)\n",
    "            right_index = self._right_child(index)\n",
    "\n",
    "            if left_index < len(self.heap) and self.heap[left_index] > self.heap[max_index]:\n",
    "                max_index = left_index\n",
    "            if right_index < len(self.heap) and self.heap[right_index] > self.heap[max_index]:\n",
    "                max_index = right_index\n",
    "            if max_index != index:\n",
    "                self._swap(index, max_index)\n",
    "                index = max_index\n",
    "            else:\n",
    "                return\n",
    "    \n",
    "    \n",
    "    def remove(self):\n",
    "        if len(self.heap) == 0:\n",
    "            return None\n",
    "\n",
    "        if len(self.heap) == 1:\n",
    "            return self.heap.pop()\n",
    "\n",
    "        \n",
    "        max_value = self.heap[0]\n",
    "        self.heap[0] = self.heap.pop()\n",
    "        self._sink_down(0)\n",
    "        return max_value"
   ]
  },
  {
   "cell_type": "code",
   "execution_count": 81,
   "id": "1b6c6fe3-740f-4054-ae5c-fdc730c48a79",
   "metadata": {},
   "outputs": [],
   "source": [
    "h = MaxHeap()"
   ]
  },
  {
   "cell_type": "code",
   "execution_count": 82,
   "id": "812baf3b-85ef-43fa-9640-469869f47e5d",
   "metadata": {},
   "outputs": [
    {
     "name": "stdout",
     "output_type": "stream",
     "text": [
      "[13, 11, 7, 5, 9]\n"
     ]
    }
   ],
   "source": [
    "h.insert(5)\n",
    "h.insert(7)\n",
    "h.insert(9)\n",
    "h.insert(11)\n",
    "h.insert(13)\n",
    "\n",
    "h.print_heap()"
   ]
  },
  {
   "cell_type": "code",
   "execution_count": 83,
   "id": "2a31683d-e943-4b62-8d1c-d90f3193a21c",
   "metadata": {},
   "outputs": [
    {
     "data": {
      "text/plain": [
       "13"
      ]
     },
     "execution_count": 83,
     "metadata": {},
     "output_type": "execute_result"
    }
   ],
   "source": [
    "h.remove()"
   ]
  },
  {
   "cell_type": "code",
   "execution_count": 84,
   "id": "ff25a375-591c-4ef6-8944-5c953ddd30f5",
   "metadata": {},
   "outputs": [
    {
     "name": "stdout",
     "output_type": "stream",
     "text": [
      "[11, 9, 7, 5]\n"
     ]
    }
   ],
   "source": [
    "h.print_heap()"
   ]
  },
  {
   "cell_type": "code",
   "execution_count": null,
   "id": "069f3369-60e8-4977-bba9-1969d3a1352b",
   "metadata": {},
   "outputs": [],
   "source": []
  }
 ],
 "metadata": {
  "kernelspec": {
   "display_name": "Python 3 (ipykernel)",
   "language": "python",
   "name": "python3"
  },
  "language_info": {
   "codemirror_mode": {
    "name": "ipython",
    "version": 3
   },
   "file_extension": ".py",
   "mimetype": "text/x-python",
   "name": "python",
   "nbconvert_exporter": "python",
   "pygments_lexer": "ipython3",
   "version": "3.9.2"
  }
 },
 "nbformat": 4,
 "nbformat_minor": 5
}
