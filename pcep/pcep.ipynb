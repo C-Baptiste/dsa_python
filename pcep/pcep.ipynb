{
 "cells": [
  {
   "cell_type": "code",
   "execution_count": 12,
   "id": "3d39d85c-f0d1-49cb-8daa-6e55ddd850a8",
   "metadata": {},
   "outputs": [
    {
     "name": "stdout",
     "output_type": "stream",
     "text": [
      "30000.0\n",
      "0.0003\n",
      "83\n",
      "83\n",
      "291\n"
     ]
    }
   ],
   "source": [
    "# scientific notation \n",
    "\n",
    "print(3e4)  # 3 * 10000\n",
    "print(3e-4) # 3 * 1/10000\n",
    "\n",
    "# octal numbers (1 digit = 3 bits) \n",
    "print(0o123)  1010011\n",
    "print(0O123)  \n",
    "\n",
    "# hexadecimal numbers (1 digit = 4 bits)\n",
    "print(0x123)  000100100011"
   ]
  },
  {
   "cell_type": "code",
   "execution_count": 27,
   "id": "91537489-d22d-4002-91c0-16e3aee86353",
   "metadata": {},
   "outputs": [
    {
     "name": "stdout",
     "output_type": "stream",
     "text": [
      "3.0\n",
      "3\n",
      "0\n",
      "1\n",
      "27\n",
      "6.0\n"
     ]
    }
   ],
   "source": [
    "print(6 / 2)\n",
    "print(7 // 2)\n",
    "print(6 % 2)\n",
    "print(7 % 2)\n",
    "print(3 ** 3)\n",
    "print(3 * 2.)"
   ]
  },
  {
   "cell_type": "code",
   "execution_count": 23,
   "id": "e917e9fc-bec4-4d5c-a605-7137c78e78f5",
   "metadata": {},
   "outputs": [
    {
     "name": "stdin",
     "output_type": "stream",
     "text": [
      "enter a number: 9\n"
     ]
    },
    {
     "name": "stdout",
     "output_type": "stream",
     "text": [
      "9\n",
      "<class 'str'>\n"
     ]
    }
   ],
   "source": [
    "n = input('enter a number:') # always return string\n",
    "print(n)\n",
    "print(type(n))"
   ]
  },
  {
   "cell_type": "markdown",
   "id": "06742bbd-f116-4ec5-ae0b-bfd39ea08c6c",
   "metadata": {},
   "source": [
    "#### python interpreter\n",
    "- reads code from top to bottom\n",
    "- throws errors based on checking:\n",
    "    - lexis: keywords\n",
    "    - syntax: brackets...\n",
    "    - semantics: meaning\n",
    " "
   ]
  },
  {
   "cell_type": "code",
   "execution_count": 33,
   "id": "c55d8861-3b47-46a8-82ed-f7690bcd7049",
   "metadata": {},
   "outputs": [
    {
     "name": "stdout",
     "output_type": "stream",
     "text": [
      "5\n",
      "5.0\n",
      "5\n",
      "0.30000000000000004\n",
      "256\n"
     ]
    }
   ],
   "source": [
    "# type casting\n",
    "print(int(5.0))\n",
    "print(float(5))\n",
    "print(str(5))\n",
    "\n",
    "# precision float is limited\n",
    "print(0.1 + 0.1 + 0.1)\n",
    "\n",
    "# ** is right sided \n",
    "print(2 ** 2 ** 3)"
   ]
  },
  {
   "cell_type": "code",
   "execution_count": 36,
   "id": "bdd2e9a6-3261-4822-ad27-ab293060b590",
   "metadata": {},
   "outputs": [
    {
     "name": "stdout",
     "output_type": "stream",
     "text": [
      "zoo.zoo\n",
      "a-b-c\n"
     ]
    }
   ],
   "source": [
    "print('zoo', end=\".\")\n",
    "print('zoo')\n",
    "\n",
    "print('a', 'b', 'c', sep='-')"
   ]
  },
  {
   "cell_type": "code",
   "execution_count": 50,
   "id": "805680e3-ed49-4ac6-b0e1-d8d2d3ba70af",
   "metadata": {},
   "outputs": [
    {
     "name": "stdout",
     "output_type": "stream",
     "text": [
      "1\n",
      "1\n",
      "0\n",
      "-13\n",
      "24\n",
      "96\n",
      "3\n",
      "1\n"
     ]
    }
   ],
   "source": [
    "# bitwise operation\n",
    "#    & | ~ ^ << >>\n",
    "first_bit = 1\n",
    "second_bit = 1\n",
    "\n",
    "#    & logical and\n",
    "print(first_bit & second_bit)\n",
    "#    | logical or\n",
    "print(first_bit | second_bit)\n",
    "#    ^ exclusive or / logical xor\n",
    "print(first_bit ^ second_bit)\n",
    "#    ~ logical NOT\n",
    "print(~12)\n",
    "print(12 << 1)\n",
    "print(12 << 3)\n",
    "print(12 >> 2)\n",
    "print(12 >> 3)"
   ]
  },
  {
   "cell_type": "code",
   "execution_count": 5,
   "id": "46350aef-ed84-4fa5-875c-80435842c036",
   "metadata": {},
   "outputs": [
    {
     "name": "stdout",
     "output_type": "stream",
     "text": [
      "z\n"
     ]
    }
   ],
   "source": [
    "if 1==1 and \\\n",
    "    2==2:\n",
    "    print(\"z\")"
   ]
  },
  {
   "cell_type": "markdown",
   "id": "d7865a1e-e807-4a1e-9452-bf6fd89370f6",
   "metadata": {},
   "source": [
    "### for / while loop\n",
    "- break\n",
    "- continue\n",
    "- pass"
   ]
  },
  {
   "cell_type": "code",
   "execution_count": 9,
   "id": "fed0178a-1ea6-4b56-847a-0dba5562694c",
   "metadata": {},
   "outputs": [
    {
     "name": "stdout",
     "output_type": "stream",
     "text": [
      "2\n",
      "3\n",
      "4\n",
      "else 5\n"
     ]
    }
   ],
   "source": [
    "i = 2\n",
    "while i < 5:\n",
    "    print(i)\n",
    "    i += 1\n",
    "else:\n",
    "    print('else', i)\n",
    "    "
   ]
  },
  {
   "cell_type": "code",
   "execution_count": 46,
   "id": "2cb545a4-ea93-457d-a717-26c80f14068c",
   "metadata": {},
   "outputs": [
    {
     "name": "stdout",
     "output_type": "stream",
     "text": [
      "[1, 6, 2, 3, 4, 5]\n",
      "[[0, 1, 2], [0, 1, 2], [0, 1, 2], [0, 1, 2]]\n",
      "[0, 1, 0, 1, 0, 1, 0, 1]\n",
      "(1, 2, 3)\n",
      "1\n",
      "4 3\n",
      "c\n",
      "a c\n",
      "b b\n"
     ]
    }
   ],
   "source": [
    "## collections:\n",
    "\n",
    "# list\n",
    "el = [1, 2, 3, 4]\n",
    "## list slicing\n",
    "el[2:7]\n",
    "el[:]\n",
    "## del instruction\n",
    "del el[2]\n",
    "del el[3:]\n",
    "del el[:]\n",
    "del el\n",
    "el = [1, 2, 3, 4]\n",
    "el = el + [7]\n",
    "el.append(5)\n",
    "el.insert(1, 6)\n",
    "print(el)\n",
    "el.sort(reverse=True)\n",
    "sorted(el) # temp\n",
    "ul = el\n",
    "## ul points the reference\n",
    "ol = el[:]\n",
    "## ol is a new list\n",
    "## list comprehension\n",
    "el = [i for i in range(100) if i%3 != 0 ]\n",
    "dl = [[i for i in range(3)] for j in range(4)]\n",
    "print(dl)\n",
    "xl = [0, 1] * 4\n",
    "print(xl)\n",
    "\n",
    "# tuples -> immutable\n",
    "tl = ()\n",
    "tl = (1,)\n",
    "tl = 1,\n",
    "tl = (1, 2, 3)\n",
    "tl = 1, 2, 3\n",
    "print(tl)\n",
    "print(len(tl[2:]))\n",
    "a = 3\n",
    "b = 4\n",
    "a, b = b, a\n",
    "print(a, b)\n",
    "\n",
    "# dict\n",
    "d = {\n",
    "    'a': 'a',\n",
    "    'b': 'b',\n",
    "    'a': 'c'\n",
    "}\n",
    "# del d['b']\n",
    "print(d['a'])\n",
    "#for key in d:\n",
    "#for key in d.keys():\n",
    "#for value in d.values():\n",
    "for k, v in d.items():\n",
    "    print(k, v)"
   ]
  },
  {
   "cell_type": "code",
   "execution_count": 8,
   "id": "af568913-f6ce-4a63-99a1-c35b84445b0d",
   "metadata": {},
   "outputs": [
    {
     "ename": "SyntaxError",
     "evalue": "non-default argument follows default argument (535402819.py, line 7)",
     "output_type": "error",
     "traceback": [
      "\u001b[0;36m  Cell \u001b[0;32mIn[8], line 7\u001b[0;36m\u001b[0m\n\u001b[0;31m    def example(zoo='default zoo', text): # wrong\u001b[0m\n\u001b[0m                                       ^\u001b[0m\n\u001b[0;31mSyntaxError\u001b[0m\u001b[0;31m:\u001b[0m non-default argument follows default argument\n"
     ]
    }
   ],
   "source": [
    "# positionnal argument\n",
    "# keyword argument\n",
    "def example(text, zoo='default zoo'): # correct\n",
    "    print(text, zoo)\n",
    "def example(zoo='default zoo', text='t'): # correct\n",
    "    print(text, zoo)\n",
    "def example(zoo='default zoo', text): # wrong\n",
    "    print(text, zoo)\n",
    "\n",
    "example(text='a', zoo='z')"
   ]
  },
  {
   "cell_type": "code",
   "execution_count": 16,
   "id": "46fc31cd-ee51-4b41-9bb2-3c4d262c691f",
   "metadata": {},
   "outputs": [
    {
     "name": "stdout",
     "output_type": "stream",
     "text": [
      "v w\n",
      "z k\n",
      "v k\n"
     ]
    }
   ],
   "source": [
    "# shadowing\n",
    "def shad():\n",
    "    global w\n",
    "    w = 'k'\n",
    "    v = 'z' # local variable shadows global variable\n",
    "    print(v, w)\n",
    "\n",
    "li = [1,2]\n",
    "w = 'w'\n",
    "v = 'v' # global variable\n",
    "print(v, w)\n",
    "shad() # function call\n",
    "print(v, w)"
   ]
  },
  {
   "cell_type": "code",
   "execution_count": 22,
   "id": "dedc3040-060e-4f89-a96b-d989bb86daa7",
   "metadata": {},
   "outputs": [
    {
     "data": {
      "text/plain": [
       "6"
      ]
     },
     "execution_count": 22,
     "metadata": {},
     "output_type": "execute_result"
    }
   ],
   "source": [
    "def factorial_iterative(n):\n",
    "    f = 1\n",
    "    for x in range(1, n+1):\n",
    "        f *= x\n",
    "    return f\n",
    "    \n",
    "def factorial_recursive(n):\n",
    "    if n <= 1:\n",
    "        return 1\n",
    "    return n * factorial_recursive(n-1)\n",
    "\n",
    "factorial_recursive(3)"
   ]
  },
  {
   "cell_type": "code",
   "execution_count": 27,
   "id": "70c0502e-8485-4c36-a515-1d23ae2f1dfb",
   "metadata": {},
   "outputs": [
    {
     "name": "stdout",
     "output_type": "stream",
     "text": [
      "<class 'generator'>\n",
      "a\n",
      "b\n",
      "a\n",
      "b\n"
     ]
    },
    {
     "data": {
      "text/plain": [
       "['a', 'b']"
      ]
     },
     "execution_count": 27,
     "metadata": {},
     "output_type": "execute_result"
    }
   ],
   "source": [
    "# generator (like a return but it pauses the function)\n",
    "def generator():\n",
    "    yield \"a\"\n",
    "    yield \"b\"\n",
    "    # for i in range(10): yield i\n",
    "obj = generator()\n",
    "print(type(obj))\n",
    "print(next(obj))\n",
    "print(next(obj))\n",
    "for w in generator():\n",
    "    print(w)\n",
    "li = list(generator())\n",
    "li"
   ]
  },
  {
   "cell_type": "code",
   "execution_count": 34,
   "id": "769035a9-f9a1-4dc0-88b5-a3f1a89e73a6",
   "metadata": {},
   "outputs": [
    {
     "name": "stdin",
     "output_type": "stream",
     "text": [
      "n =  0\n"
     ]
    },
    {
     "name": "stdout",
     "output_type": "stream",
     "text": [
      "zob\n"
     ]
    }
   ],
   "source": [
    "try:\n",
    "    v = int(input('n = '))\n",
    "    v = 1/v\n",
    "    print(v)\n",
    "except ValueError:\n",
    "    print('zoo')\n",
    "except ZeroDivisionError:\n",
    "    print('zob')\n",
    "except:\n",
    "    print('z')\n",
    "\n",
    "# see exception hierarchy\n",
    "# exception propagation"
   ]
  },
  {
   "cell_type": "code",
   "execution_count": 45,
   "id": "1ba36d56-0e59-4dae-a1fc-915f283710ee",
   "metadata": {},
   "outputs": [
    {
     "ename": "AssertionError",
     "evalue": "0 as n",
     "output_type": "error",
     "traceback": [
      "\u001b[0;31m---------------------------------------------------------------------------\u001b[0m",
      "\u001b[0;31mAssertionError\u001b[0m                            Traceback (most recent call last)",
      "Cell \u001b[0;32mIn[45], line 6\u001b[0m\n\u001b[1;32m      3\u001b[0m     \u001b[38;5;28;01massert\u001b[39;00m n \u001b[38;5;241m!=\u001b[39m \u001b[38;5;241m0\u001b[39m, \u001b[38;5;124m'\u001b[39m\u001b[38;5;124m0 as n\u001b[39m\u001b[38;5;124m'\u001b[39m\n\u001b[1;32m      4\u001b[0m     \u001b[38;5;28;01mreturn\u001b[39;00m \u001b[38;5;241m1\u001b[39m\u001b[38;5;241m/\u001b[39mn\n\u001b[0;32m----> 6\u001b[0m \u001b[43minverse\u001b[49m\u001b[43m(\u001b[49m\u001b[38;5;241;43m0\u001b[39;49m\u001b[43m)\u001b[49m\n",
      "Cell \u001b[0;32mIn[45], line 3\u001b[0m, in \u001b[0;36minverse\u001b[0;34m(n)\u001b[0m\n\u001b[1;32m      2\u001b[0m \u001b[38;5;28;01mdef\u001b[39;00m \u001b[38;5;21minverse\u001b[39m(n):\n\u001b[0;32m----> 3\u001b[0m     \u001b[38;5;28;01massert\u001b[39;00m n \u001b[38;5;241m!=\u001b[39m \u001b[38;5;241m0\u001b[39m, \u001b[38;5;124m'\u001b[39m\u001b[38;5;124m0 as n\u001b[39m\u001b[38;5;124m'\u001b[39m\n\u001b[1;32m      4\u001b[0m     \u001b[38;5;28;01mreturn\u001b[39;00m \u001b[38;5;241m1\u001b[39m\u001b[38;5;241m/\u001b[39mn\n",
      "\u001b[0;31mAssertionError\u001b[0m: 0 as n"
     ]
    }
   ],
   "source": [
    "# assert debugging tools\n",
    "def inverse(n):\n",
    "    assert n != 0, '0 as n'\n",
    "    return 1/n\n",
    "\n",
    "inverse(0)\n"
   ]
  },
  {
   "cell_type": "code",
   "execution_count": 1,
   "id": "794cc179-52c7-49d3-9bde-26e62c289164",
   "metadata": {},
   "outputs": [],
   "source": [
    "a= [1,2] *2"
   ]
  },
  {
   "cell_type": "code",
   "execution_count": 2,
   "id": "9d01ee8b-8656-4b29-bda3-b756ebe054b6",
   "metadata": {},
   "outputs": [
    {
     "data": {
      "text/plain": [
       "[1, 2, 1, 2]"
      ]
     },
     "execution_count": 2,
     "metadata": {},
     "output_type": "execute_result"
    }
   ],
   "source": [
    "a\n"
   ]
  },
  {
   "cell_type": "code",
   "execution_count": null,
   "id": "72f40a46-63e3-4a06-8135-5ecda7e2f667",
   "metadata": {},
   "outputs": [],
   "source": []
  }
 ],
 "metadata": {
  "kernelspec": {
   "display_name": "Python 3 (ipykernel)",
   "language": "python",
   "name": "python3"
  },
  "language_info": {
   "codemirror_mode": {
    "name": "ipython",
    "version": 3
   },
   "file_extension": ".py",
   "mimetype": "text/x-python",
   "name": "python",
   "nbconvert_exporter": "python",
   "pygments_lexer": "ipython3",
   "version": "3.9.2"
  }
 },
 "nbformat": 4,
 "nbformat_minor": 5
}
