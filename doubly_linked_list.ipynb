{
 "cells": [
  {
   "cell_type": "code",
   "execution_count": 3,
   "id": "dcabe8db-2f2f-4409-b4d7-50fb2db7cd3f",
   "metadata": {},
   "outputs": [],
   "source": [
    "class Node:\n",
    "    def __init__(self, value):\n",
    "        self.value = value\n",
    "        self.next = None\n",
    "        self.prev = None"
   ]
  },
  {
   "cell_type": "code",
   "execution_count": 33,
   "id": "c89ce831-c34e-4ba9-b230-11b39441155d",
   "metadata": {},
   "outputs": [],
   "source": [
    "class DoublyLinkedList:\n",
    "    def __init__(self, value):\n",
    "        new_node = Node(value)\n",
    "        self.head = new_node\n",
    "        self.tail = new_node\n",
    "        self.length = 1\n",
    "\n",
    "    def print_list(self):\n",
    "        tmp = self.head\n",
    "        while tmp:\n",
    "            print(tmp.value)\n",
    "            tmp = tmp.next\n",
    "\n",
    "    def append(self, value):\n",
    "        new_node = Node(value)\n",
    "        if self.head is None:\n",
    "            self.head = new_node\n",
    "            self.tail = new_node\n",
    "        else:\n",
    "            self.tail.next = new_node\n",
    "            new_node.prev = self.tail\n",
    "            self.tail = new_node\n",
    "        self.length += 1\n",
    "        return True\n",
    "\n",
    "    def pop(self):\n",
    "        if self.length == 0:\n",
    "            return None\n",
    "        tmp = self.tail\n",
    "        if self.length == 1:\n",
    "            self.head = None \n",
    "            self.tail = None\n",
    "        else:      \n",
    "            self.tail = self.tail.prev\n",
    "            self.tail.next = None\n",
    "            tmp.prev = None\n",
    "        self.length -= 1        \n",
    "        return tmp\n",
    "\n",
    "    def prepend(self, value):\n",
    "        new_node = Node(value)\n",
    "        if self.length == 0:\n",
    "            self.head = new_node\n",
    "            self.tail = new_node\n",
    "        else:\n",
    "            new_node.next = self.head\n",
    "            self.head.prev = new_node\n",
    "            self.head = new_node\n",
    "        self.length += 1\n",
    "        return True\n",
    "\n",
    "    def pop_first(self):\n",
    "        if self.length == 0:\n",
    "            return None\n",
    "        tmp = self.head\n",
    "        if self.length == 1:\n",
    "            self.head = None\n",
    "            self.tail = None\n",
    "        else:\n",
    "            self.head = self.head.next\n",
    "            self.head.prev = None\n",
    "            tmp.next = None\n",
    "        self.length -= 1\n",
    "        return tmp\n",
    "\n",
    "    def get(self, index):\n",
    "        if index < 0 or index >= self.length:\n",
    "            return None\n",
    "        tmp = self.head\n",
    "        if index < self.length/2:\n",
    "            for _ in range(index):\n",
    "                tmp = tmp.next\n",
    "        else:\n",
    "            tmp = self.tail\n",
    "            for _ in range(self.length - 1, index, -1):\n",
    "                tmp = tmp.prev                \n",
    "        return tmp\n",
    "\n",
    "    def set_value(self, index, value):\n",
    "        tmp = self.get(index)\n",
    "        if tmp:\n",
    "            tmp.value = value\n",
    "            return True\n",
    "        return False\n",
    "\n",
    "    def insert(self, index, value):\n",
    "        if index < 0 or index > self.length:\n",
    "            return False\n",
    "        if index == 0:\n",
    "            return self.prepend(value)\n",
    "        if index == self.length:\n",
    "            return self.append(value)\n",
    "\n",
    "        before = self.get(index-1)\n",
    "        after = before.next\n",
    "        new_node = Node(value)  \n",
    "        \n",
    "        new_node.next = after\n",
    "        new_node.prev = before\n",
    "        after.prev = new_node\n",
    "        before.next = new_node        \n",
    "        \n",
    "        self.length += 1\n",
    "        return True\n",
    "\n",
    "    def remove(self, index):\n",
    "        if index < 0 or index >= self.length:\n",
    "            return None\n",
    "        if index == 0:\n",
    "            return self.pop_first()\n",
    "        if index == self.length - 1:\n",
    "            return self.pop()\n",
    "\n",
    "        tmp = self.get(index)\n",
    "        tmp.next.prev = tmp.prev\n",
    "        tmp.prev.next = tmp.next\n",
    "        \n",
    "        tmp.next = None\n",
    "        tmp.prev = None\n",
    "        self.length -= 1\n",
    "        return tmp\n",
    "            "
   ]
  },
  {
   "cell_type": "code",
   "execution_count": 26,
   "id": "58d1b5c0-c525-40f1-8f7b-f1152633c0ec",
   "metadata": {},
   "outputs": [],
   "source": [
    "dll = DoublyLinkedList(5)"
   ]
  },
  {
   "cell_type": "code",
   "execution_count": 27,
   "id": "43c534ce-b086-49ad-8a36-4dda9f71263a",
   "metadata": {},
   "outputs": [
    {
     "data": {
      "text/plain": [
       "True"
      ]
     },
     "execution_count": 27,
     "metadata": {},
     "output_type": "execute_result"
    }
   ],
   "source": [
    "dll.append(9)"
   ]
  },
  {
   "cell_type": "code",
   "execution_count": 28,
   "id": "0309c94e-fcc9-46a9-b49a-9ec8217b05ac",
   "metadata": {},
   "outputs": [
    {
     "name": "stdout",
     "output_type": "stream",
     "text": [
      "5\n",
      "9\n"
     ]
    }
   ],
   "source": [
    "dll.print_list()"
   ]
  },
  {
   "cell_type": "code",
   "execution_count": 29,
   "id": "f978ca84-1651-4d74-942b-8aeb20b6b295",
   "metadata": {},
   "outputs": [
    {
     "data": {
      "text/plain": [
       "True"
      ]
     },
     "execution_count": 29,
     "metadata": {},
     "output_type": "execute_result"
    }
   ],
   "source": [
    "dll.prepend(3)"
   ]
  },
  {
   "cell_type": "code",
   "execution_count": 32,
   "id": "a1a80d86-45fd-4fb2-ac59-a16d7691498c",
   "metadata": {},
   "outputs": [
    {
     "name": "stdout",
     "output_type": "stream",
     "text": [
      "3\n",
      "5\n",
      "16\n",
      "9\n"
     ]
    }
   ],
   "source": [
    "dll.print_list()"
   ]
  },
  {
   "cell_type": "code",
   "execution_count": 31,
   "id": "ad797d62-e326-44ea-b0f3-82483820c560",
   "metadata": {},
   "outputs": [
    {
     "data": {
      "text/plain": [
       "True"
      ]
     },
     "execution_count": 31,
     "metadata": {},
     "output_type": "execute_result"
    }
   ],
   "source": [
    "dll.insert(2,16)"
   ]
  },
  {
   "cell_type": "code",
   "execution_count": null,
   "id": "12af36bc-e47b-43f6-bc7b-891f1ec72c85",
   "metadata": {},
   "outputs": [],
   "source": []
  }
 ],
 "metadata": {
  "kernelspec": {
   "display_name": "Python 3 (ipykernel)",
   "language": "python",
   "name": "python3"
  },
  "language_info": {
   "codemirror_mode": {
    "name": "ipython",
    "version": 3
   },
   "file_extension": ".py",
   "mimetype": "text/x-python",
   "name": "python",
   "nbconvert_exporter": "python",
   "pygments_lexer": "ipython3",
   "version": "3.9.2"
  }
 },
 "nbformat": 4,
 "nbformat_minor": 5
}
