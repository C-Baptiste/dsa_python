{
 "cells": [
  {
   "cell_type": "code",
   "execution_count": 1,
   "id": "e247907d-8670-4663-9bde-d462b30ac6f7",
   "metadata": {},
   "outputs": [],
   "source": [
    "class LinkedList:\n",
    "    def __init__(self, value):\n",
    "        new_node = Node(value)\n",
    "        self.head = new_node\n",
    "        self.tail = new_node\n",
    "        self.lenght = 1 \n",
    "        \n",
    "    def append(self, value):\n",
    "        new_node = Node(value)\n",
    "        if self.head is None:\n",
    "            self.head = new_node\n",
    "            self.tail = new_node\n",
    "        else:\n",
    "            self.tail.next = new_node\n",
    "            self.tail = new_node\n",
    "        self.lenght += 1\n",
    "        return True\n",
    "    \n",
    "    def pop(self):\n",
    "        if self.lenght == 0:\n",
    "            return None        \n",
    "        pre = self.head\n",
    "        tmp = self.head\n",
    "        while(tmp.next):\n",
    "            pre = tmp\n",
    "            tmp = tmp.next\n",
    "        self.tail = pre\n",
    "        self.tail.next = None\n",
    "        self.lenght -= 1        \n",
    "        if self.lenght == 0:\n",
    "            self.head = None\n",
    "            self.tail = None        \n",
    "        return tmp\n",
    "        \n",
    "        \n",
    "    def prepend(self, value):        \n",
    "        new_node = Node(value)\n",
    "        if self.lenght == 0:\n",
    "            self.head = new_node\n",
    "            self.tail = new_node\n",
    "        else:\n",
    "            new_node.next = self.head\n",
    "            self.head = new_node\n",
    "        self.lenght += 1 \n",
    "        return True\n",
    "        \n",
    "    #def insert(self, value):\n",
    "    \n",
    "    def print_list(self):\n",
    "        tmp = self.head\n",
    "        while tmp is not None:\n",
    "            print(tmp.value)\n",
    "            tmp = tmp.next\n",
    "            \n",
    "    def make_empty(self):\n",
    "        self.head = None\n",
    "        self.tail = None\n",
    "        self.lenght = 0\n",
    "        "
   ]
  },
  {
   "cell_type": "code",
   "execution_count": 2,
   "id": "85ca23be-8ddd-4ba9-8a01-b25f824862c6",
   "metadata": {},
   "outputs": [],
   "source": [
    "class Node:\n",
    "    def __init__(self, value):\n",
    "        self.value = value\n",
    "        self.next = None"
   ]
  },
  {
   "cell_type": "code",
   "execution_count": 3,
   "id": "7168ffaa-4f33-4f73-aae0-55f096d22587",
   "metadata": {},
   "outputs": [],
   "source": [
    "l = LinkedList(4)"
   ]
  },
  {
   "cell_type": "code",
   "execution_count": 8,
   "id": "3338d40a-4374-4c6b-a07b-1a3b7871922f",
   "metadata": {},
   "outputs": [
    {
     "data": {
      "text/plain": [
       "True"
      ]
     },
     "execution_count": 8,
     "metadata": {},
     "output_type": "execute_result"
    }
   ],
   "source": [
    "l.append(9)\n",
    "l.prepend(8)\n",
    "l.prepend(13)\n",
    "l.append(25)"
   ]
  },
  {
   "cell_type": "code",
   "execution_count": 9,
   "id": "49864eff-8ac1-4b24-9e52-3c07e830cb3c",
   "metadata": {},
   "outputs": [
    {
     "name": "stdout",
     "output_type": "stream",
     "text": [
      "13\n",
      "8\n",
      "13\n",
      "8\n",
      "4\n",
      "9\n",
      "9\n",
      "25\n"
     ]
    }
   ],
   "source": [
    "l.print_list()"
   ]
  },
  {
   "cell_type": "code",
   "execution_count": 6,
   "id": "ef7394b5-e6a0-490c-8a8a-95d48fb05a75",
   "metadata": {},
   "outputs": [
    {
     "data": {
      "text/plain": [
       "<__main__.Node at 0x22e2086c6a0>"
      ]
     },
     "execution_count": 6,
     "metadata": {},
     "output_type": "execute_result"
    }
   ],
   "source": [
    "l.pop()"
   ]
  },
  {
   "cell_type": "code",
   "execution_count": null,
   "id": "1dbdfe5a-9646-43df-b291-d6c497ed7f31",
   "metadata": {},
   "outputs": [],
   "source": []
  }
 ],
 "metadata": {
  "kernelspec": {
   "display_name": "Python 3 (ipykernel)",
   "language": "python",
   "name": "python3"
  },
  "language_info": {
   "codemirror_mode": {
    "name": "ipython",
    "version": 3
   },
   "file_extension": ".py",
   "mimetype": "text/x-python",
   "name": "python",
   "nbconvert_exporter": "python",
   "pygments_lexer": "ipython3",
   "version": "3.10.8"
  }
 },
 "nbformat": 4,
 "nbformat_minor": 5
}
